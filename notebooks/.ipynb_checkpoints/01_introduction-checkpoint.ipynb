{
 "cells": [
  {
   "cell_type": "markdown",
   "metadata": {},
   "source": [
    "# Introduction"
   ]
  },
  {
   "cell_type": "markdown",
   "metadata": {},
   "source": [
    "## Machine learning \n",
    "training a machine by showing examples instead of programming it:\n",
    "    - supervised\n",
    "    - unsupervised\n",
    "    - reinforcement\n",
    "    - ...\n",
    "\n",
    "Our goal: understanding structure-property relationships (SPR) in chemical data via machine learning (ML) techniques.\n",
    "\n",
    "<img src=\"images/spr.png\" alt=\"Drawing\" style=\"width: 700px;\"/>"
   ]
  },
  {
   "cell_type": "markdown",
   "metadata": {},
   "source": [
    "## Descriptors\n",
    "to provide numerical representation of chemical systems (e.g., by extracting chemical information from systems)\n",
    "\n",
    "<img src=\"images/descriptor.png\" alt=\"Drawing\" style=\"width: 700px;\"/>"
   ]
  },
  {
   "cell_type": "markdown",
   "metadata": {},
   "source": [
    "## Measure of success\n",
    "\n",
    "<img src=\"images/success.png\" alt=\"Drawing\" style=\"width: 700px;\"/>"
   ]
  },
  {
   "cell_type": "markdown",
   "metadata": {},
   "source": [
    "## Tutorial requirements\n",
    "- create a new conda environment with Python 3.6\n",
    "- pip install chemml\n",
    "- conda install -c rdkit rdkit\n",
    "- conda install -c openbabel openbabel\n",
    "\n",
    "Other important libraries like Scikit-learn, Keras, Tensorflow, Pandas, and Numpy will be installed with ChemML. \n"
   ]
  },
  {
   "cell_type": "markdown",
   "metadata": {},
   "source": [
    "## Chemical Data: Structured Data\n",
    "load sample data from ChemML: https://hachmannlab.github.io/chemml/"
   ]
  },
  {
   "cell_type": "code",
   "execution_count": 1,
   "metadata": {},
   "outputs": [
    {
     "name": "stdout",
     "output_type": "stream",
     "text": [
      "(500, 1)\n"
     ]
    },
    {
     "data": {
      "text/html": [
       "<div>\n",
       "<style scoped>\n",
       "    .dataframe tbody tr th:only-of-type {\n",
       "        vertical-align: middle;\n",
       "    }\n",
       "\n",
       "    .dataframe tbody tr th {\n",
       "        vertical-align: top;\n",
       "    }\n",
       "\n",
       "    .dataframe thead th {\n",
       "        text-align: right;\n",
       "    }\n",
       "</style>\n",
       "<table border=\"1\" class=\"dataframe\">\n",
       "  <thead>\n",
       "    <tr style=\"text-align: right;\">\n",
       "      <th></th>\n",
       "      <th>smiles</th>\n",
       "    </tr>\n",
       "  </thead>\n",
       "  <tbody>\n",
       "    <tr>\n",
       "      <th>0</th>\n",
       "      <td>C1CSC(CS1)c1ncc(s1)CC1CCCC1</td>\n",
       "    </tr>\n",
       "    <tr>\n",
       "      <th>1</th>\n",
       "      <td>Oc1nccnc1c1coc(c1)c1cnccn1</td>\n",
       "    </tr>\n",
       "    <tr>\n",
       "      <th>2</th>\n",
       "      <td>N1CN(CN(C1)c1cncs1)c1ccc(cn1)c1cocc1</td>\n",
       "    </tr>\n",
       "    <tr>\n",
       "      <th>3</th>\n",
       "      <td>OC1(CSCCS1)c1ccoc1O</td>\n",
       "    </tr>\n",
       "    <tr>\n",
       "      <th>4</th>\n",
       "      <td>N1CNC(N(C1)c1cscn1)c1cocc1c1cscn1</td>\n",
       "    </tr>\n",
       "  </tbody>\n",
       "</table>\n",
       "</div>"
      ],
      "text/plain": [
       "                                 smiles\n",
       "0           C1CSC(CS1)c1ncc(s1)CC1CCCC1\n",
       "1            Oc1nccnc1c1coc(c1)c1cnccn1\n",
       "2  N1CN(CN(C1)c1cncs1)c1ccc(cn1)c1cocc1\n",
       "3                   OC1(CSCCS1)c1ccoc1O\n",
       "4     N1CNC(N(C1)c1cscn1)c1cocc1c1cscn1"
      ]
     },
     "execution_count": 1,
     "metadata": {},
     "output_type": "execute_result"
    }
   ],
   "source": [
    "from chemml.datasets import load_organic_density\n",
    "smiles, density, features = load_organic_density()\n",
    "\n",
    "# molecules \n",
    "print(smiles.shape)\n",
    "smiles.head()"
   ]
  },
  {
   "cell_type": "code",
   "execution_count": 2,
   "metadata": {},
   "outputs": [
    {
     "name": "stdout",
     "output_type": "stream",
     "text": [
      "(500, 1)\n"
     ]
    },
    {
     "data": {
      "text/html": [
       "<div>\n",
       "<style scoped>\n",
       "    .dataframe tbody tr th:only-of-type {\n",
       "        vertical-align: middle;\n",
       "    }\n",
       "\n",
       "    .dataframe tbody tr th {\n",
       "        vertical-align: top;\n",
       "    }\n",
       "\n",
       "    .dataframe thead th {\n",
       "        text-align: right;\n",
       "    }\n",
       "</style>\n",
       "<table border=\"1\" class=\"dataframe\">\n",
       "  <thead>\n",
       "    <tr style=\"text-align: right;\">\n",
       "      <th></th>\n",
       "      <th>density_Kg/m3</th>\n",
       "    </tr>\n",
       "  </thead>\n",
       "  <tbody>\n",
       "    <tr>\n",
       "      <th>0</th>\n",
       "      <td>1184.64</td>\n",
       "    </tr>\n",
       "    <tr>\n",
       "      <th>1</th>\n",
       "      <td>1333.85</td>\n",
       "    </tr>\n",
       "    <tr>\n",
       "      <th>2</th>\n",
       "      <td>1332.41</td>\n",
       "    </tr>\n",
       "    <tr>\n",
       "      <th>3</th>\n",
       "      <td>1370.11</td>\n",
       "    </tr>\n",
       "    <tr>\n",
       "      <th>4</th>\n",
       "      <td>1387.80</td>\n",
       "    </tr>\n",
       "  </tbody>\n",
       "</table>\n",
       "</div>"
      ],
      "text/plain": [
       "   density_Kg/m3\n",
       "0        1184.64\n",
       "1        1333.85\n",
       "2        1332.41\n",
       "3        1370.11\n",
       "4        1387.80"
      ]
     },
     "execution_count": 2,
     "metadata": {},
     "output_type": "execute_result"
    }
   ],
   "source": [
    "# highest occupied molecular orbital energies (homo (eV))\n",
    "print (density.shape)\n",
    "density.head()"
   ]
  },
  {
   "cell_type": "markdown",
   "metadata": {},
   "source": [
    "## Visualization"
   ]
  },
  {
   "cell_type": "code",
   "execution_count": 3,
   "metadata": {},
   "outputs": [],
   "source": [
    "from chemml.chem import Molecule"
   ]
  },
  {
   "cell_type": "code",
   "execution_count": 8,
   "metadata": {},
   "outputs": [],
   "source": [
    "m1 = Molecule(smiles.iloc[0,0], 'smiles')"
   ]
  },
  {
   "cell_type": "code",
   "execution_count": 9,
   "metadata": {},
   "outputs": [
    {
     "data": {
      "text/plain": [
       "<chemml.chem.Molecule(\n",
       "        rdkit_molecule : <rdkit.Chem.rdchem.Mol object at 0x11e80dbc0>,\n",
       "        pybel_molecule : None,\n",
       "        creator        : ('SMILES', 'C1CSC(CS1)c1ncc(s1)CC1CCCC1'),\n",
       "        smiles         : 'c1nc(C2CSCCS2)sc1CC1CCCC1',\n",
       "        smarts         : None,\n",
       "        inchi          : None,\n",
       "        xyz            : None)>"
      ]
     },
     "execution_count": 9,
     "metadata": {},
     "output_type": "execute_result"
    }
   ],
   "source": [
    "m1"
   ]
  },
  {
   "cell_type": "code",
   "execution_count": 10,
   "metadata": {},
   "outputs": [
    {
     "data": {
      "image/png": "[encoded data removed]",
      "text/plain": [
       "<PIL.Image.Image image mode=RGB size=300x300 at 0x11E80EB38>"
      ]
     },
     "execution_count": 10,
     "metadata": {},
     "output_type": "execute_result"
    }
   ],
   "source": [
    "m1.visualize()"
   ]
  },
  {
   "cell_type": "code",
   "execution_count": 13,
   "metadata": {},
   "outputs": [
    {
     "data": {
      "text/plain": [
       "500"
      ]
     },
     "execution_count": 13,
     "metadata": {},
     "output_type": "execute_result"
    }
   ],
   "source": [
    "molecules = [Molecule(i, 'smiles') for i in smiles.iloc[:,0]]\n",
    "len(molecules)"
   ]
  },
  {
   "cell_type": "code",
   "execution_count": 14,
   "metadata": {},
   "outputs": [
    {
     "name": "stdout",
     "output_type": "stream",
     "text": [
      "1199.13 kg/m^3\n"
     ]
    },
    {
     "data": {
      "image/png": "[encoded data removed]",
      "text/plain": [
       "<PIL.Image.Image image mode=RGB size=300x300 at 0x11E9CCE10>"
      ]
     },
     "execution_count": 14,
     "metadata": {},
     "output_type": "execute_result"
    }
   ],
   "source": [
    "print(density.iloc[99,0], 'kg/m^3')\n",
    "molecules[99].visualize()"
   ]
  },
  {
   "cell_type": "markdown",
   "metadata": {},
   "source": [
    "## Descriptors and dimension"
   ]
  },
  {
   "cell_type": "code",
   "execution_count": 46,
   "metadata": {},
   "outputs": [
    {
     "name": "stdout",
     "output_type": "stream",
     "text": [
      "(500, 200)\n"
     ]
    },
    {
     "data": {
      "text/html": [
       "<div>\n",
       "<style scoped>\n",
       "    .dataframe tbody tr th:only-of-type {\n",
       "        vertical-align: middle;\n",
       "    }\n",
       "\n",
       "    .dataframe tbody tr th {\n",
       "        vertical-align: top;\n",
       "    }\n",
       "\n",
       "    .dataframe thead th {\n",
       "        text-align: right;\n",
       "    }\n",
       "</style>\n",
       "<table border=\"1\" class=\"dataframe\">\n",
       "  <thead>\n",
       "    <tr style=\"text-align: right;\">\n",
       "      <th></th>\n",
       "      <th>MW</th>\n",
       "      <th>AMW</th>\n",
       "      <th>Sv</th>\n",
       "      <th>Se</th>\n",
       "      <th>Sp</th>\n",
       "      <th>Si</th>\n",
       "      <th>Mv</th>\n",
       "      <th>Me</th>\n",
       "      <th>Mp</th>\n",
       "      <th>Mi</th>\n",
       "      <th>GD</th>\n",
       "      <th>nAT</th>\n",
       "      <th>nSK</th>\n",
       "      <th>nTA</th>\n",
       "      <th>nBT</th>\n",
       "      <th>nBO</th>\n",
       "      <th>nBM</th>\n",
       "      <th>SCBO</th>\n",
       "      <th>RBN</th>\n",
       "      <th>RBF</th>\n",
       "    </tr>\n",
       "  </thead>\n",
       "  <tbody>\n",
       "    <tr>\n",
       "      <th>0</th>\n",
       "      <td>285.54</td>\n",
       "      <td>7.932</td>\n",
       "      <td>22.324</td>\n",
       "      <td>35.283</td>\n",
       "      <td>25.801</td>\n",
       "      <td>39.995</td>\n",
       "      <td>0.620</td>\n",
       "      <td>0.980</td>\n",
       "      <td>0.717</td>\n",
       "      <td>1.111</td>\n",
       "      <td>0.140</td>\n",
       "      <td>36</td>\n",
       "      <td>17</td>\n",
       "      <td>0</td>\n",
       "      <td>38</td>\n",
       "      <td>19</td>\n",
       "      <td>5</td>\n",
       "      <td>21.5</td>\n",
       "      <td>3</td>\n",
       "      <td>0.079</td>\n",
       "    </tr>\n",
       "    <tr>\n",
       "      <th>1</th>\n",
       "      <td>240.24</td>\n",
       "      <td>9.240</td>\n",
       "      <td>18.569</td>\n",
       "      <td>26.829</td>\n",
       "      <td>18.455</td>\n",
       "      <td>29.242</td>\n",
       "      <td>0.714</td>\n",
       "      <td>1.032</td>\n",
       "      <td>0.710</td>\n",
       "      <td>1.125</td>\n",
       "      <td>0.131</td>\n",
       "      <td>26</td>\n",
       "      <td>18</td>\n",
       "      <td>1</td>\n",
       "      <td>28</td>\n",
       "      <td>20</td>\n",
       "      <td>17</td>\n",
       "      <td>28.5</td>\n",
       "      <td>2</td>\n",
       "      <td>0.071</td>\n",
       "    </tr>\n",
       "    <tr>\n",
       "      <th>2</th>\n",
       "      <td>313.42</td>\n",
       "      <td>8.471</td>\n",
       "      <td>24.643</td>\n",
       "      <td>37.331</td>\n",
       "      <td>25.938</td>\n",
       "      <td>41.697</td>\n",
       "      <td>0.666</td>\n",
       "      <td>1.009</td>\n",
       "      <td>0.701</td>\n",
       "      <td>1.127</td>\n",
       "      <td>0.108</td>\n",
       "      <td>37</td>\n",
       "      <td>22</td>\n",
       "      <td>0</td>\n",
       "      <td>40</td>\n",
       "      <td>25</td>\n",
       "      <td>16</td>\n",
       "      <td>33.0</td>\n",
       "      <td>3</td>\n",
       "      <td>0.075</td>\n",
       "    </tr>\n",
       "    <tr>\n",
       "      <th>3</th>\n",
       "      <td>218.32</td>\n",
       "      <td>9.492</td>\n",
       "      <td>15.153</td>\n",
       "      <td>23.553</td>\n",
       "      <td>16.466</td>\n",
       "      <td>25.544</td>\n",
       "      <td>0.659</td>\n",
       "      <td>1.024</td>\n",
       "      <td>0.716</td>\n",
       "      <td>1.111</td>\n",
       "      <td>0.179</td>\n",
       "      <td>23</td>\n",
       "      <td>13</td>\n",
       "      <td>2</td>\n",
       "      <td>24</td>\n",
       "      <td>14</td>\n",
       "      <td>5</td>\n",
       "      <td>16.5</td>\n",
       "      <td>1</td>\n",
       "      <td>0.042</td>\n",
       "    </tr>\n",
       "    <tr>\n",
       "      <th>4</th>\n",
       "      <td>319.45</td>\n",
       "      <td>9.396</td>\n",
       "      <td>23.303</td>\n",
       "      <td>34.524</td>\n",
       "      <td>24.824</td>\n",
       "      <td>38.202</td>\n",
       "      <td>0.685</td>\n",
       "      <td>1.015</td>\n",
       "      <td>0.730</td>\n",
       "      <td>1.124</td>\n",
       "      <td>0.114</td>\n",
       "      <td>34</td>\n",
       "      <td>21</td>\n",
       "      <td>0</td>\n",
       "      <td>37</td>\n",
       "      <td>24</td>\n",
       "      <td>15</td>\n",
       "      <td>31.5</td>\n",
       "      <td>3</td>\n",
       "      <td>0.081</td>\n",
       "    </tr>\n",
       "    <tr>\n",
       "      <th>5</th>\n",
       "      <td>320.46</td>\n",
       "      <td>9.425</td>\n",
       "      <td>25.051</td>\n",
       "      <td>33.774</td>\n",
       "      <td>27.114</td>\n",
       "      <td>36.913</td>\n",
       "      <td>0.737</td>\n",
       "      <td>0.993</td>\n",
       "      <td>0.797</td>\n",
       "      <td>1.086</td>\n",
       "      <td>0.108</td>\n",
       "      <td>34</td>\n",
       "      <td>22</td>\n",
       "      <td>0</td>\n",
       "      <td>37</td>\n",
       "      <td>25</td>\n",
       "      <td>22</td>\n",
       "      <td>36.0</td>\n",
       "      <td>3</td>\n",
       "      <td>0.081</td>\n",
       "    </tr>\n",
       "    <tr>\n",
       "      <th>6</th>\n",
       "      <td>247.31</td>\n",
       "      <td>7.728</td>\n",
       "      <td>21.897</td>\n",
       "      <td>31.731</td>\n",
       "      <td>23.029</td>\n",
       "      <td>35.199</td>\n",
       "      <td>0.684</td>\n",
       "      <td>0.992</td>\n",
       "      <td>0.720</td>\n",
       "      <td>1.100</td>\n",
       "      <td>0.123</td>\n",
       "      <td>32</td>\n",
       "      <td>19</td>\n",
       "      <td>1</td>\n",
       "      <td>34</td>\n",
       "      <td>21</td>\n",
       "      <td>18</td>\n",
       "      <td>30.0</td>\n",
       "      <td>2</td>\n",
       "      <td>0.059</td>\n",
       "    </tr>\n",
       "    <tr>\n",
       "      <th>7</th>\n",
       "      <td>248.31</td>\n",
       "      <td>8.010</td>\n",
       "      <td>21.193</td>\n",
       "      <td>30.942</td>\n",
       "      <td>22.068</td>\n",
       "      <td>34.654</td>\n",
       "      <td>0.684</td>\n",
       "      <td>0.998</td>\n",
       "      <td>0.712</td>\n",
       "      <td>1.118</td>\n",
       "      <td>0.123</td>\n",
       "      <td>31</td>\n",
       "      <td>19</td>\n",
       "      <td>1</td>\n",
       "      <td>33</td>\n",
       "      <td>21</td>\n",
       "      <td>18</td>\n",
       "      <td>30.0</td>\n",
       "      <td>2</td>\n",
       "      <td>0.061</td>\n",
       "    </tr>\n",
       "    <tr>\n",
       "      <th>8</th>\n",
       "      <td>174.21</td>\n",
       "      <td>7.574</td>\n",
       "      <td>15.064</td>\n",
       "      <td>23.073</td>\n",
       "      <td>15.716</td>\n",
       "      <td>25.495</td>\n",
       "      <td>0.655</td>\n",
       "      <td>1.003</td>\n",
       "      <td>0.683</td>\n",
       "      <td>1.108</td>\n",
       "      <td>0.179</td>\n",
       "      <td>23</td>\n",
       "      <td>13</td>\n",
       "      <td>3</td>\n",
       "      <td>24</td>\n",
       "      <td>14</td>\n",
       "      <td>11</td>\n",
       "      <td>19.5</td>\n",
       "      <td>0</td>\n",
       "      <td>0.000</td>\n",
       "    </tr>\n",
       "    <tr>\n",
       "      <th>9</th>\n",
       "      <td>304.39</td>\n",
       "      <td>8.953</td>\n",
       "      <td>24.579</td>\n",
       "      <td>34.025</td>\n",
       "      <td>25.921</td>\n",
       "      <td>37.202</td>\n",
       "      <td>0.723</td>\n",
       "      <td>1.001</td>\n",
       "      <td>0.762</td>\n",
       "      <td>1.094</td>\n",
       "      <td>0.108</td>\n",
       "      <td>34</td>\n",
       "      <td>22</td>\n",
       "      <td>0</td>\n",
       "      <td>37</td>\n",
       "      <td>25</td>\n",
       "      <td>22</td>\n",
       "      <td>36.0</td>\n",
       "      <td>3</td>\n",
       "      <td>0.081</td>\n",
       "    </tr>\n",
       "  </tbody>\n",
       "</table>\n",
       "</div>"
      ],
      "text/plain": [
       "       MW    AMW      Sv      Se      Sp      Si     Mv     Me     Mp     Mi  \\\n",
       "0  285.54  7.932  22.324  35.283  25.801  39.995  0.620  0.980  0.717  1.111   \n",
       "1  240.24  9.240  18.569  26.829  18.455  29.242  0.714  1.032  0.710  1.125   \n",
       "2  313.42  8.471  24.643  37.331  25.938  41.697  0.666  1.009  0.701  1.127   \n",
       "3  218.32  9.492  15.153  23.553  16.466  25.544  0.659  1.024  0.716  1.111   \n",
       "4  319.45  9.396  23.303  34.524  24.824  38.202  0.685  1.015  0.730  1.124   \n",
       "5  320.46  9.425  25.051  33.774  27.114  36.913  0.737  0.993  0.797  1.086   \n",
       "6  247.31  7.728  21.897  31.731  23.029  35.199  0.684  0.992  0.720  1.100   \n",
       "7  248.31  8.010  21.193  30.942  22.068  34.654  0.684  0.998  0.712  1.118   \n",
       "8  174.21  7.574  15.064  23.073  15.716  25.495  0.655  1.003  0.683  1.108   \n",
       "9  304.39  8.953  24.579  34.025  25.921  37.202  0.723  1.001  0.762  1.094   \n",
       "\n",
       "      GD  nAT  nSK  nTA  nBT  nBO  nBM  SCBO  RBN    RBF  \n",
       "0  0.140   36   17    0   38   19    5  21.5    3  0.079  \n",
       "1  0.131   26   18    1   28   20   17  28.5    2  0.071  \n",
       "2  0.108   37   22    0   40   25   16  33.0    3  0.075  \n",
       "3  0.179   23   13    2   24   14    5  16.5    1  0.042  \n",
       "4  0.114   34   21    0   37   24   15  31.5    3  0.081  \n",
       "5  0.108   34   22    0   37   25   22  36.0    3  0.081  \n",
       "6  0.123   32   19    1   34   21   18  30.0    2  0.059  \n",
       "7  0.123   31   19    1   33   21   18  30.0    2  0.061  \n",
       "8  0.179   23   13    3   24   14   11  19.5    0  0.000  \n",
       "9  0.108   34   22    0   37   25   22  36.0    3  0.081  "
      ]
     },
     "execution_count": 46,
     "metadata": {},
     "output_type": "execute_result"
    }
   ],
   "source": [
    "print (features.shape)\n",
    "features.iloc[range(10), range(20)]\n",
    "# [i for i in features.columns]"
   ]
  },
  {
   "cell_type": "code",
   "execution_count": 34,
   "metadata": {},
   "outputs": [
    {
     "data": {
      "text/plain": [
       "<matplotlib.collections.PathCollection at 0x12160ab70>"
      ]
     },
     "execution_count": 34,
     "metadata": {},
     "output_type": "execute_result"
    },
    {
     "data": {
      "image/png": "[encoded data removed]",
      "text/plain": [
       "<Figure size 432x288 with 1 Axes>"
      ]
     },
     "metadata": {
      "needs_background": "light"
     },
     "output_type": "display_data"
    }
   ],
   "source": [
    "import matplotlib.pyplot as plt\n",
    "%matplotlib inline\n",
    "\n",
    "plt.scatter(features.nC, density)\n"
   ]
  },
  {
   "cell_type": "code",
   "execution_count": 21,
   "metadata": {},
   "outputs": [
    {
     "data": {
      "text/plain": [
       "<matplotlib.collections.PathCollection at 0x1214157f0>"
      ]
     },
     "execution_count": 21,
     "metadata": {},
     "output_type": "execute_result"
    },
    {
     "data": {
      "image/png": "[encoded data removed]",
      "text/plain": [
       "<Figure size 432x288 with 1 Axes>"
      ]
     },
     "metadata": {
      "needs_background": "light"
     },
     "output_type": "display_data"
    }
   ],
   "source": [
    "plt.scatter(features.AMW, density)\n"
   ]
  },
  {
   "cell_type": "code",
   "execution_count": 35,
   "metadata": {},
   "outputs": [
    {
     "data": {
      "text/plain": [
       "<mpl_toolkits.mplot3d.art3d.Path3DCollection at 0x11da3fb38>"
      ]
     },
     "execution_count": 35,
     "metadata": {},
     "output_type": "execute_result"
    },
    {
     "data": {
      "image/png": "[encoded data removed]",
      "text/plain": [
       "<Figure size 432x288 with 1 Axes>"
      ]
     },
     "metadata": {
      "needs_background": "light"
     },
     "output_type": "display_data"
    }
   ],
   "source": [
    "from mpl_toolkits.mplot3d import axes3d\n",
    "fig = plt.figure()\n",
    "ax = fig.gca(projection='3d')\n",
    "ax.scatter(features.nC, features.AMW, density)"
   ]
  },
  {
   "cell_type": "markdown",
   "metadata": {},
   "source": [
    "## check for missing data"
   ]
  },
  {
   "cell_type": "code",
   "execution_count": 36,
   "metadata": {},
   "outputs": [
    {
     "name": "stdout",
     "output_type": "stream",
     "text": [
      "0\n",
      "0\n"
     ]
    }
   ],
   "source": [
    "print(density.isna().any().sum())\n",
    "print(features.isna().any().sum())\n",
    "# available options to replace or remove missing data\n",
    "# pandas: fillna/dropna\n",
    "# sklearn: imputer"
   ]
  },
  {
   "cell_type": "markdown",
   "metadata": {},
   "source": [
    "## check for constant columns"
   ]
  },
  {
   "cell_type": "code",
   "execution_count": 37,
   "metadata": {
    "scrolled": false
   },
   "outputs": [
    {
     "name": "stdout",
     "output_type": "stream",
     "text": [
      "(500, 200)\n",
      "removed columns:  []\n"
     ]
    }
   ],
   "source": [
    "pre_columns = features.columns\n",
    "features = features.loc[:, (features != features.iloc[0]).any()]\n",
    "print (features.shape)\n",
    "print ('removed columns: ', [i for i in pre_columns if i not in features.columns])"
   ]
  },
  {
   "cell_type": "markdown",
   "metadata": {},
   "source": [
    "## check for outliers"
   ]
  },
  {
   "cell_type": "code",
   "execution_count": 38,
   "metadata": {
    "scrolled": true
   },
   "outputs": [
    {
     "data": {
      "text/plain": [
       "<matplotlib.axes._subplots.AxesSubplot at 0x11da70be0>"
      ]
     },
     "execution_count": 38,
     "metadata": {},
     "output_type": "execute_result"
    },
    {
     "data": {
      "image/png": "[encoded data removed]",
      "text/plain": [
       "<Figure size 432x288 with 1 Axes>"
      ]
     },
     "metadata": {
      "needs_background": "light"
     },
     "output_type": "display_data"
    }
   ],
   "source": [
    "import matplotlib.pyplot as plt\n",
    "%matplotlib inline\n",
    "\n",
    "density.plot(kind='hist', grid=True)"
   ]
  },
  {
   "cell_type": "markdown",
   "metadata": {},
   "source": [
    "## pairwise correlation of columns"
   ]
  },
  {
   "cell_type": "code",
   "execution_count": 40,
   "metadata": {},
   "outputs": [
    {
     "data": {
      "text/plain": [
       "(500, 201)"
      ]
     },
     "execution_count": 40,
     "metadata": {},
     "output_type": "execute_result"
    }
   ],
   "source": [
    "import pandas as pd\n",
    "Xy = pd.concat([features,density], axis = 1)\n",
    "Xy.shape"
   ]
  },
  {
   "cell_type": "code",
   "execution_count": 41,
   "metadata": {},
   "outputs": [
    {
     "name": "stdout",
     "output_type": "stream",
     "text": [
      "(201, 201)\n"
     ]
    },
    {
     "data": {
      "text/html": [
       "<div>\n",
       "<style scoped>\n",
       "    .dataframe tbody tr th:only-of-type {\n",
       "        vertical-align: middle;\n",
       "    }\n",
       "\n",
       "    .dataframe tbody tr th {\n",
       "        vertical-align: top;\n",
       "    }\n",
       "\n",
       "    .dataframe thead th {\n",
       "        text-align: right;\n",
       "    }\n",
       "</style>\n",
       "<table border=\"1\" class=\"dataframe\">\n",
       "  <thead>\n",
       "    <tr style=\"text-align: right;\">\n",
       "      <th></th>\n",
       "      <th>MW</th>\n",
       "      <th>AMW</th>\n",
       "      <th>Sv</th>\n",
       "      <th>Se</th>\n",
       "      <th>Sp</th>\n",
       "      <th>Si</th>\n",
       "      <th>Mv</th>\n",
       "      <th>Me</th>\n",
       "      <th>Mp</th>\n",
       "      <th>Mi</th>\n",
       "      <th>...</th>\n",
       "      <th>X5Av</th>\n",
       "      <th>X0sol</th>\n",
       "      <th>X1sol</th>\n",
       "      <th>X2sol</th>\n",
       "      <th>X3sol</th>\n",
       "      <th>X4sol</th>\n",
       "      <th>X5sol</th>\n",
       "      <th>XMOD</th>\n",
       "      <th>RDCHI</th>\n",
       "      <th>density_Kg/m3</th>\n",
       "    </tr>\n",
       "  </thead>\n",
       "  <tbody>\n",
       "    <tr>\n",
       "      <th>X4sol</th>\n",
       "      <td>0.968221</td>\n",
       "      <td>0.123505</td>\n",
       "      <td>0.816163</td>\n",
       "      <td>0.633548</td>\n",
       "      <td>0.836019</td>\n",
       "      <td>0.580581</td>\n",
       "      <td>0.253722</td>\n",
       "      <td>-0.298185</td>\n",
       "      <td>0.343701</td>\n",
       "      <td>-0.391087</td>\n",
       "      <td>...</td>\n",
       "      <td>0.187400</td>\n",
       "      <td>0.903397</td>\n",
       "      <td>0.946886</td>\n",
       "      <td>0.971001</td>\n",
       "      <td>0.991688</td>\n",
       "      <td>1.000000</td>\n",
       "      <td>0.934784</td>\n",
       "      <td>0.970401</td>\n",
       "      <td>0.809790</td>\n",
       "      <td>0.027459</td>\n",
       "    </tr>\n",
       "    <tr>\n",
       "      <th>X5sol</th>\n",
       "      <td>0.953134</td>\n",
       "      <td>-0.064310</td>\n",
       "      <td>0.880417</td>\n",
       "      <td>0.741480</td>\n",
       "      <td>0.899188</td>\n",
       "      <td>0.697417</td>\n",
       "      <td>0.088776</td>\n",
       "      <td>-0.426186</td>\n",
       "      <td>0.177199</td>\n",
       "      <td>-0.294592</td>\n",
       "      <td>...</td>\n",
       "      <td>0.227676</td>\n",
       "      <td>0.929141</td>\n",
       "      <td>0.939723</td>\n",
       "      <td>0.947000</td>\n",
       "      <td>0.941038</td>\n",
       "      <td>0.934784</td>\n",
       "      <td>1.000000</td>\n",
       "      <td>0.938099</td>\n",
       "      <td>0.815113</td>\n",
       "      <td>-0.130200</td>\n",
       "    </tr>\n",
       "    <tr>\n",
       "      <th>XMOD</th>\n",
       "      <td>0.994800</td>\n",
       "      <td>0.042471</td>\n",
       "      <td>0.870165</td>\n",
       "      <td>0.712946</td>\n",
       "      <td>0.873378</td>\n",
       "      <td>0.664328</td>\n",
       "      <td>0.179237</td>\n",
       "      <td>-0.276815</td>\n",
       "      <td>0.230418</td>\n",
       "      <td>-0.262447</td>\n",
       "      <td>...</td>\n",
       "      <td>0.097003</td>\n",
       "      <td>0.954440</td>\n",
       "      <td>0.985619</td>\n",
       "      <td>0.985358</td>\n",
       "      <td>0.982222</td>\n",
       "      <td>0.970401</td>\n",
       "      <td>0.938099</td>\n",
       "      <td>1.000000</td>\n",
       "      <td>0.891965</td>\n",
       "      <td>0.015172</td>\n",
       "    </tr>\n",
       "    <tr>\n",
       "      <th>RDCHI</th>\n",
       "      <td>0.883391</td>\n",
       "      <td>-0.213046</td>\n",
       "      <td>0.927612</td>\n",
       "      <td>0.799776</td>\n",
       "      <td>0.888816</td>\n",
       "      <td>0.758111</td>\n",
       "      <td>0.060752</td>\n",
       "      <td>-0.370185</td>\n",
       "      <td>0.013776</td>\n",
       "      <td>-0.170959</td>\n",
       "      <td>...</td>\n",
       "      <td>-0.197727</td>\n",
       "      <td>0.956142</td>\n",
       "      <td>0.941259</td>\n",
       "      <td>0.906511</td>\n",
       "      <td>0.860018</td>\n",
       "      <td>0.809790</td>\n",
       "      <td>0.815113</td>\n",
       "      <td>0.891965</td>\n",
       "      <td>1.000000</td>\n",
       "      <td>-0.237931</td>\n",
       "    </tr>\n",
       "    <tr>\n",
       "      <th>density_Kg/m3</th>\n",
       "      <td>-0.020622</td>\n",
       "      <td>0.814935</td>\n",
       "      <td>-0.434839</td>\n",
       "      <td>-0.517262</td>\n",
       "      <td>-0.429126</td>\n",
       "      <td>-0.533809</td>\n",
       "      <td>0.504702</td>\n",
       "      <td>0.820785</td>\n",
       "      <td>0.497705</td>\n",
       "      <td>0.001347</td>\n",
       "      <td>...</td>\n",
       "      <td>0.133163</td>\n",
       "      <td>-0.207006</td>\n",
       "      <td>-0.125619</td>\n",
       "      <td>-0.068866</td>\n",
       "      <td>-0.008061</td>\n",
       "      <td>0.027459</td>\n",
       "      <td>-0.130200</td>\n",
       "      <td>0.015172</td>\n",
       "      <td>-0.237931</td>\n",
       "      <td>1.000000</td>\n",
       "    </tr>\n",
       "  </tbody>\n",
       "</table>\n",
       "<p>5 rows × 201 columns</p>\n",
       "</div>"
      ],
      "text/plain": [
       "                     MW       AMW        Sv        Se        Sp        Si  \\\n",
       "X4sol          0.968221  0.123505  0.816163  0.633548  0.836019  0.580581   \n",
       "X5sol          0.953134 -0.064310  0.880417  0.741480  0.899188  0.697417   \n",
       "XMOD           0.994800  0.042471  0.870165  0.712946  0.873378  0.664328   \n",
       "RDCHI          0.883391 -0.213046  0.927612  0.799776  0.888816  0.758111   \n",
       "density_Kg/m3 -0.020622  0.814935 -0.434839 -0.517262 -0.429126 -0.533809   \n",
       "\n",
       "                     Mv        Me        Mp        Mi  ...      X5Av  \\\n",
       "X4sol          0.253722 -0.298185  0.343701 -0.391087  ...  0.187400   \n",
       "X5sol          0.088776 -0.426186  0.177199 -0.294592  ...  0.227676   \n",
       "XMOD           0.179237 -0.276815  0.230418 -0.262447  ...  0.097003   \n",
       "RDCHI          0.060752 -0.370185  0.013776 -0.170959  ... -0.197727   \n",
       "density_Kg/m3  0.504702  0.820785  0.497705  0.001347  ...  0.133163   \n",
       "\n",
       "                  X0sol     X1sol     X2sol     X3sol     X4sol     X5sol  \\\n",
       "X4sol          0.903397  0.946886  0.971001  0.991688  1.000000  0.934784   \n",
       "X5sol          0.929141  0.939723  0.947000  0.941038  0.934784  1.000000   \n",
       "XMOD           0.954440  0.985619  0.985358  0.982222  0.970401  0.938099   \n",
       "RDCHI          0.956142  0.941259  0.906511  0.860018  0.809790  0.815113   \n",
       "density_Kg/m3 -0.207006 -0.125619 -0.068866 -0.008061  0.027459 -0.130200   \n",
       "\n",
       "                   XMOD     RDCHI  density_Kg/m3  \n",
       "X4sol          0.970401  0.809790       0.027459  \n",
       "X5sol          0.938099  0.815113      -0.130200  \n",
       "XMOD           1.000000  0.891965       0.015172  \n",
       "RDCHI          0.891965  1.000000      -0.237931  \n",
       "density_Kg/m3  0.015172 -0.237931       1.000000  \n",
       "\n",
       "[5 rows x 201 columns]"
      ]
     },
     "execution_count": 41,
     "metadata": {},
     "output_type": "execute_result"
    }
   ],
   "source": [
    "Xy_corr = Xy.corr(method='pearson')\n",
    "print (Xy_corr.shape)\n",
    "Xy_corr.tail()"
   ]
  },
  {
   "cell_type": "code",
   "execution_count": 60,
   "metadata": {},
   "outputs": [
    {
     "data": {
      "text/plain": [
       "ON1V            -0.664462\n",
       "nH              -0.620050\n",
       "nC              -0.608848\n",
       "H%              -0.599342\n",
       "ON0V            -0.566455\n",
       "nAT             -0.546741\n",
       "Si              -0.533809\n",
       "nBT             -0.526994\n",
       "Se              -0.517262\n",
       "nBnz            -0.449667\n",
       "Sv              -0.434839\n",
       "Sp              -0.429126\n",
       "PW5             -0.427687\n",
       "nR06            -0.427605\n",
       "Psi_i_1         -0.380635\n",
       "TIE             -0.376339\n",
       "D/Dtr06         -0.375616\n",
       "X5              -0.367031\n",
       "RFD             -0.365478\n",
       "RCI             -0.365478\n",
       "Rbrid           -0.364281\n",
       "nR10            -0.364281\n",
       "D/Dtr10         -0.355069\n",
       "Pol             -0.354331\n",
       "Psi_i_0         -0.347929\n",
       "MPC05           -0.325061\n",
       "ON0             -0.323669\n",
       "C%              -0.318043\n",
       "nCsp2           -0.316698\n",
       "SRW10           -0.309207\n",
       "                   ...   \n",
       "ZM2Per           0.253534\n",
       "SRW09            0.261542\n",
       "ZM2MulPer        0.267995\n",
       "X0Av             0.268347\n",
       "SRW07            0.274868\n",
       "ZM1Kup           0.275857\n",
       "GD               0.276232\n",
       "MAXDN            0.277499\n",
       "D/Dtr05          0.292229\n",
       "SRW05            0.300009\n",
       "ZM1Mad           0.311436\n",
       "nR05             0.333942\n",
       "ZM1Per           0.356632\n",
       "NNRS             0.370056\n",
       "DELS             0.387832\n",
       "ZM1V             0.408877\n",
       "nN               0.427433\n",
       "ZM1MulPer        0.427605\n",
       "Psi_i_A          0.486724\n",
       "Psi_e_A          0.486724\n",
       "Mp               0.497705\n",
       "Mv               0.504702\n",
       "RBF              0.522911\n",
       "nS               0.578144\n",
       "nHM              0.578144\n",
       "N%               0.611002\n",
       "nHet             0.779323\n",
       "AMW              0.814935\n",
       "Me               0.820785\n",
       "density_Kg/m3    1.000000\n",
       "Name: density_Kg/m3, Length: 201, dtype: float64"
      ]
     },
     "execution_count": 60,
     "metadata": {},
     "output_type": "execute_result"
    }
   ],
   "source": [
    "Xy_corr.iloc[-1,:].sort_values()"
   ]
  }
 ],
 "metadata": {
  "kernelspec": {
   "display_name": "Python [conda env:chemml_dev] *",
   "language": "python",
   "name": "conda-env-chemml_dev-py"
  },
  "language_info": {
   "codemirror_mode": {
    "name": "ipython",
    "version": 3
   },
   "file_extension": ".py",
   "mimetype": "text/x-python",
   "name": "python",
   "nbconvert_exporter": "python",
   "pygments_lexer": "ipython3",
   "version": "3.6.8"
  }
 },
 "nbformat": 4,
 "nbformat_minor": 2
}
