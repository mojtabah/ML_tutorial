{
 "cells": [
  {
   "cell_type": "markdown",
   "metadata": {},
   "source": [
    "# Linear Models"
   ]
  },
  {
   "cell_type": "code",
   "execution_count": 1,
   "metadata": {},
   "outputs": [],
   "source": [
    "import numpy as np\n",
    "np.random.seed(90)\n",
    "\n",
    "import pandas as pd\n",
    "import matplotlib.pyplot as plt\n",
    "\n",
    "from sklearn import linear_model\n",
    "\n",
    "\n",
    "%matplotlib inline"
   ]
  },
  {
   "cell_type": "code",
   "execution_count": 2,
   "metadata": {},
   "outputs": [],
   "source": [
    "from chemml.datasets import load_organic_density\n",
    "smiles, density, features = load_organic_density()\n"
   ]
  },
  {
   "cell_type": "markdown",
   "metadata": {},
   "source": [
    "## Ordinary Linear Regression"
   ]
  },
  {
   "cell_type": "code",
   "execution_count": 3,
   "metadata": {},
   "outputs": [],
   "source": [
    "x1 = features['AMW'].values.reshape(-1,1)\n",
    "# print (x1.shape)\n",
    "y1 = density.values.reshape(-1,1)\n",
    "# print (y1.shape)"
   ]
  },
  {
   "cell_type": "code",
   "execution_count": 4,
   "metadata": {},
   "outputs": [
    {
     "name": "stdout",
     "output_type": "stream",
     "text": [
      "training R2:  0.664118398605855\n"
     ]
    }
   ],
   "source": [
    "lr1 = linear_model.LinearRegression()\n",
    "lr1.fit(x1, y1)\n",
    "print ('training R2: ', lr1.score(x1,y1))\n"
   ]
  },
  {
   "cell_type": "code",
   "execution_count": 5,
   "metadata": {},
   "outputs": [
    {
     "name": "stdout",
     "output_type": "stream",
     "text": [
      "density = 56.87066663280952 * AMW + 766.9044732961527\n"
     ]
    }
   ],
   "source": [
    "print('density =', lr1.coef_[0][0],'* AMW', '+', lr1.intercept_[0])"
   ]
  },
  {
   "cell_type": "code",
   "execution_count": 6,
   "metadata": {},
   "outputs": [
    {
     "data": {
      "text/html": [
       "<div>\n",
       "<style scoped>\n",
       "    .dataframe tbody tr th:only-of-type {\n",
       "        vertical-align: middle;\n",
       "    }\n",
       "\n",
       "    .dataframe tbody tr th {\n",
       "        vertical-align: top;\n",
       "    }\n",
       "\n",
       "    .dataframe thead th {\n",
       "        text-align: right;\n",
       "    }\n",
       "</style>\n",
       "<table border=\"1\" class=\"dataframe\">\n",
       "  <thead>\n",
       "    <tr style=\"text-align: right;\">\n",
       "      <th></th>\n",
       "      <th>density_Kg/m3</th>\n",
       "    </tr>\n",
       "  </thead>\n",
       "  <tbody>\n",
       "    <tr>\n",
       "      <th>count</th>\n",
       "      <td>500.000000</td>\n",
       "    </tr>\n",
       "    <tr>\n",
       "      <th>mean</th>\n",
       "      <td>1268.838380</td>\n",
       "    </tr>\n",
       "    <tr>\n",
       "      <th>std</th>\n",
       "      <td>90.310547</td>\n",
       "    </tr>\n",
       "    <tr>\n",
       "      <th>min</th>\n",
       "      <td>1005.600000</td>\n",
       "    </tr>\n",
       "    <tr>\n",
       "      <th>25%</th>\n",
       "      <td>1207.170000</td>\n",
       "    </tr>\n",
       "    <tr>\n",
       "      <th>50%</th>\n",
       "      <td>1264.460000</td>\n",
       "    </tr>\n",
       "    <tr>\n",
       "      <th>75%</th>\n",
       "      <td>1327.352500</td>\n",
       "    </tr>\n",
       "    <tr>\n",
       "      <th>max</th>\n",
       "      <td>1614.830000</td>\n",
       "    </tr>\n",
       "  </tbody>\n",
       "</table>\n",
       "</div>"
      ],
      "text/plain": [
       "       density_Kg/m3\n",
       "count     500.000000\n",
       "mean     1268.838380\n",
       "std        90.310547\n",
       "min      1005.600000\n",
       "25%      1207.170000\n",
       "50%      1264.460000\n",
       "75%      1327.352500\n",
       "max      1614.830000"
      ]
     },
     "execution_count": 6,
     "metadata": {},
     "output_type": "execute_result"
    }
   ],
   "source": [
    "density.describe()"
   ]
  },
  {
   "cell_type": "code",
   "execution_count": 7,
   "metadata": {},
   "outputs": [
    {
     "data": {
      "text/plain": [
       "Text(0, 0.5, 'density (kg/m^3)')"
      ]
     },
     "execution_count": 7,
     "metadata": {},
     "output_type": "execute_result"
    },
    {
     "data": {
      "image/png": "[encoded data removed]",
      "text/plain": [
       "<Figure size 432x288 with 1 Axes>"
      ]
     },
     "metadata": {
      "needs_background": "light"
     },
     "output_type": "display_data"
    }
   ],
   "source": [
    "fig = plt.figure()\n",
    "ax = fig.add_subplot(111)\n",
    "ax.scatter(x1, y1)\n",
    "ax.plot(x1, lr1.predict(x1), color='red')\n",
    "ax.set_xlabel('AMW')\n",
    "ax.set_ylabel('density (kg/m^3)')"
   ]
  },
  {
   "cell_type": "markdown",
   "metadata": {},
   "source": [
    "## Multivariate regression"
   ]
  },
  {
   "cell_type": "code",
   "execution_count": 8,
   "metadata": {},
   "outputs": [
    {
     "name": "stdout",
     "output_type": "stream",
     "text": [
      "(500, 2)\n",
      "(500, 1)\n"
     ]
    }
   ],
   "source": [
    "x1 = features[['AMW','nC']]\n",
    "print (x1.shape)\n",
    "y1 = density.values.reshape(-1,1)\n",
    "print (y1.shape)"
   ]
  },
  {
   "cell_type": "code",
   "execution_count": 9,
   "metadata": {},
   "outputs": [
    {
     "name": "stdout",
     "output_type": "stream",
     "text": [
      "training R2:  0.7609109400380928\n"
     ]
    }
   ],
   "source": [
    "lr1 = linear_model.LinearRegression()\n",
    "lr1.fit(x1, y1)\n",
    "print ('training R2: ', lr1.score(x1,y1))\n"
   ]
  },
  {
   "cell_type": "code",
   "execution_count": 10,
   "metadata": {},
   "outputs": [
    {
     "name": "stdout",
     "output_type": "stream",
     "text": [
      "density = 47.48891175777278 * AMW + -7.122488873051298 * nC + 969.6494661618453\n"
     ]
    }
   ],
   "source": [
    "print('density =', lr1.coef_[0][0],'* AMW', '+', lr1.coef_[0][1],'* nC', '+', lr1.intercept_[0])"
   ]
  },
  {
   "cell_type": "markdown",
   "metadata": {},
   "source": [
    "## Robust regression to control outliers"
   ]
  },
  {
   "cell_type": "code",
   "execution_count": 11,
   "metadata": {},
   "outputs": [],
   "source": [
    "x1 = features['AMW'].values.reshape(-1,1)\n",
    "# print (x1.shape)\n",
    "y1 = density.values.reshape(-1,1)\n",
    "# print (y1.shape)"
   ]
  },
  {
   "cell_type": "code",
   "execution_count": 12,
   "metadata": {},
   "outputs": [
    {
     "name": "stdout",
     "output_type": "stream",
     "text": [
      "ordinary: training R2:  0.664118398605855\n",
      "ransac: training R2:  0.6123088416467449\n"
     ]
    }
   ],
   "source": [
    "lr1 = linear_model.LinearRegression()\n",
    "lr1.fit(x1, y1)\n",
    "print ('ordinary: training R2: ', lr1.score(x1,y1))\n",
    "\n",
    "\n",
    "ransac = linear_model.RANSACRegressor()\n",
    "ransac.fit(x1,y1)\n",
    "print ('ransac: training R2: ', ransac.score(x1,y1))\n"
   ]
  },
  {
   "cell_type": "code",
   "execution_count": 13,
   "metadata": {},
   "outputs": [
    {
     "data": {
      "text/plain": [
       "[<matplotlib.lines.Line2D at 0x12a4e7358>]"
      ]
     },
     "execution_count": 13,
     "metadata": {},
     "output_type": "execute_result"
    },
    {
     "data": {
      "image/png": "[encoded data removed]",
      "text/plain": [
       "<Figure size 432x288 with 1 Axes>"
      ]
     },
     "metadata": {
      "needs_background": "light"
     },
     "output_type": "display_data"
    }
   ],
   "source": [
    "plt.scatter(x1, y1)\n",
    "plt.plot(x1, ransac.predict(x1), color='black')\n",
    "plt.plot(x1, lr1.predict(x1), color='red')"
   ]
  },
  {
   "cell_type": "code",
   "execution_count": 14,
   "metadata": {},
   "outputs": [
    {
     "ename": "NameError",
     "evalue": "name 'y_outlier' is not defined",
     "output_type": "error",
     "traceback": [
      "\u001b[0;31m---------------------------------------------------------------------------\u001b[0m",
      "\u001b[0;31mNameError\u001b[0m                                 Traceback (most recent call last)",
      "\u001b[0;32m<ipython-input-14-441cf510d618>\u001b[0m in \u001b[0;36m<module>\u001b[0;34m\u001b[0m\n\u001b[1;32m      9\u001b[0m \u001b[0;34m\u001b[0m\u001b[0m\n\u001b[1;32m     10\u001b[0m \u001b[0mx1\u001b[0m \u001b[0;34m=\u001b[0m \u001b[0mnp\u001b[0m\u001b[0;34m.\u001b[0m\u001b[0mconcatenate\u001b[0m\u001b[0;34m(\u001b[0m\u001b[0;34m(\u001b[0m\u001b[0mx1\u001b[0m\u001b[0;34m,\u001b[0m\u001b[0mx_outlier1\u001b[0m\u001b[0;34m,\u001b[0m \u001b[0mx_outlier2\u001b[0m\u001b[0;34m)\u001b[0m\u001b[0;34m,\u001b[0m \u001b[0maxis\u001b[0m\u001b[0;34m=\u001b[0m\u001b[0;36m0\u001b[0m\u001b[0;34m)\u001b[0m\u001b[0;34m\u001b[0m\u001b[0;34m\u001b[0m\u001b[0m\n\u001b[0;32m---> 11\u001b[0;31m \u001b[0my1\u001b[0m \u001b[0;34m=\u001b[0m \u001b[0mnp\u001b[0m\u001b[0;34m.\u001b[0m\u001b[0mconcatenate\u001b[0m\u001b[0;34m(\u001b[0m\u001b[0;34m(\u001b[0m\u001b[0my1\u001b[0m\u001b[0;34m,\u001b[0m\u001b[0my_outlier\u001b[0m\u001b[0;34m,\u001b[0m \u001b[0my_outlier2\u001b[0m\u001b[0;34m)\u001b[0m\u001b[0;34m,\u001b[0m \u001b[0maxis\u001b[0m\u001b[0;34m=\u001b[0m\u001b[0;36m0\u001b[0m\u001b[0;34m)\u001b[0m\u001b[0;34m\u001b[0m\u001b[0;34m\u001b[0m\u001b[0m\n\u001b[0m\u001b[1;32m     12\u001b[0m \u001b[0;34m\u001b[0m\u001b[0m\n\u001b[1;32m     13\u001b[0m \u001b[0mplt\u001b[0m\u001b[0;34m.\u001b[0m\u001b[0mscatter\u001b[0m\u001b[0;34m(\u001b[0m\u001b[0mx1\u001b[0m\u001b[0;34m,\u001b[0m\u001b[0my1\u001b[0m\u001b[0;34m)\u001b[0m\u001b[0;34m\u001b[0m\u001b[0;34m\u001b[0m\u001b[0m\n",
      "\u001b[0;31mNameError\u001b[0m: name 'y_outlier' is not defined"
     ]
    }
   ],
   "source": [
    "x1 = features['AMW'].values.reshape(-1,1)\n",
    "y1 = density.values.reshape(-1,1)\n",
    "\n",
    "x_outlier1 = np.random.randn(20,1) + 7\n",
    "y_outlier1 = np.random.randn(20,1) + 1600\n",
    "\n",
    "x_outlier2 = np.random.randn(20,1) + 13\n",
    "y_outlier2 = np.random.randn(20,1) + 1000\n",
    "\n",
    "x1 = np.concatenate((x1,x_outlier1, x_outlier2), axis=0)\n",
    "y1 = np.concatenate((y1,y_outlier2, y_outlier2), axis=0)\n",
    "\n",
    "plt.scatter(x1,y1)"
   ]
  },
  {
   "cell_type": "code",
   "execution_count": null,
   "metadata": {},
   "outputs": [],
   "source": [
    "lr1 = linear_model.LinearRegression()\n",
    "lr1.fit(x1, y1)\n",
    "\n",
    "ransac = linear_model.RANSACRegressor()\n",
    "ransac.fit(x1,y1)\n"
   ]
  },
  {
   "cell_type": "code",
   "execution_count": null,
   "metadata": {},
   "outputs": [],
   "source": [
    "plt.scatter(x1, y1)\n",
    "plt.plot(x1, ransac.predict(x1), color='black', label='ransac')\n",
    "plt.plot(x1, lr1.predict(x1), color='red', label='ordinary')\n",
    "plt.legend()"
   ]
  },
  {
   "cell_type": "markdown",
   "metadata": {},
   "source": [
    "## Avoid overfitting: regularization "
   ]
  },
  {
   "cell_type": "code",
   "execution_count": null,
   "metadata": {},
   "outputs": [],
   "source": [
    "from sklearn.pipeline import Pipeline\n",
    "from sklearn.preprocessing import PolynomialFeatures\n"
   ]
  },
  {
   "cell_type": "code",
   "execution_count": null,
   "metadata": {},
   "outputs": [],
   "source": [
    "def true_fun(X):\n",
    "    return np.cos(1.5 * np.pi * X)\n",
    "\n",
    "np.random.seed(0)\n",
    "\n",
    "n_samples = 30\n",
    "\n",
    "x2 = np.sort(np.random.rand(n_samples))\n",
    "y2 = true_fun(x2) + np.random.randn(n_samples) * 0.1\n",
    "x2 = x2.reshape(-1,1)\n",
    "y2 = y2.reshape(-1,1)\n",
    "\n",
    "print (x2.shape, y2.shape)"
   ]
  },
  {
   "cell_type": "code",
   "execution_count": null,
   "metadata": {},
   "outputs": [],
   "source": [
    "lrmodel = linear_model.LinearRegression()\n",
    "lrmodel.fit(x2,y2)\n",
    "\n",
    "polynomial_features = PolynomialFeatures(degree=10,include_bias=False)\n",
    "lrmodel1 = linear_model.LinearRegression()\n",
    "pipeline = Pipeline([(\"polynomial_features\", polynomial_features),\n",
    "                     (\"linear_regression\", lrmodel1)])\n",
    "pipeline.fit(x2,y2)\n",
    "# fit ridge regression model on expanded features\n",
    "ridge = linear_model.Ridge(alpha=.1)\n",
    "pipeline1 = Pipeline([(\"polynomial_features\", polynomial_features),\n",
    "                     (\"ridge_regression\", ridge)])\n",
    "pipeline1.fit(x2,y2)\n",
    "\n",
    "lasso = linear_model.Lasso(alpha=0.01)\n",
    "pipeline2 = Pipeline([(\"polynomial_features\", polynomial_features),\n",
    "                     (\"lasso_regression\", lasso)])\n",
    "pipeline2.fit(x2,y2)\n",
    "\n",
    "# plot the fitted lines\n",
    "# X_all = np.linspace(200, 500, 100)\n",
    "X_all = np.linspace(0, 1, 100)\n",
    "\n",
    "fig = plt.figure(figsize=[12,8])\n",
    "plt.subplot(2,2,1)\n",
    "plt.plot(X_all, lrmodel.predict(X_all[:, np.newaxis]),color='k',label='')\n",
    "plt.scatter(x2,y2, c='k', label='data')\n",
    "plt.subplot(2,2,2)\n",
    "plt.plot(X_all, pipeline.predict(X_all[:, np.newaxis]),color='r')\n",
    "plt.scatter(x2,y2, c='k', label='data')\n",
    "plt.subplot(2,2,3)\n",
    "plt.plot(X_all, pipeline1.predict(X_all[:, np.newaxis]),color='b')\n",
    "plt.scatter(x2,y2, c='k', label='data')\n",
    "plt.subplot(2,2,4)\n",
    "plt.plot(X_all, pipeline2.predict(X_all[:, np.newaxis]),color='g')\n",
    "plt.scatter(x2,y2, c='k', label='data')"
   ]
  },
  {
   "cell_type": "markdown",
   "metadata": {},
   "source": [
    "## Optimization problem\n",
    "\n",
    "Linear Models:\n",
    "$$y_{pred} = Xw + b$$\n",
    "\n",
    "Ordinary Least Square:\n",
    "$$\\min _{w}\\|X w-y\\|_{2}^{2}$$\n",
    "\n",
    "Ridge regression:\n",
    "$$\\min _{w}\\|X w-y\\|_{2}^{2}+\\alpha\\|w\\|_{2}^{2}$$\n",
    "\n",
    "LASSO:\n",
    "$$\\min _{w} \\frac{1}{2 n_{\\text { samples }}}\\|X w-y\\|_{2}^{2}+\\alpha\\|w\\|_{1}$$"
   ]
  },
  {
   "cell_type": "markdown",
   "metadata": {},
   "source": [
    "## Other advantages\n",
    "- Ridge Regression: robust to collinearity\n",
    "- Lasso: feature selection"
   ]
  },
  {
   "cell_type": "code",
   "execution_count": null,
   "metadata": {},
   "outputs": [],
   "source": [
    "x = features[['AMW', 'Me','nC', 'Mi']]\n",
    "y = density.values.reshape(-1,1)\n",
    "\n",
    "lr = linear_model.LinearRegression()\n",
    "lr.fit(x,y)\n",
    "print (\"Ordinary model:\", lr.intercept_, '+', lr.coef_[0])\n",
    "\n",
    "ridge = linear_model.Ridge(alpha=10)\n",
    "ridge.fit(x,y)\n",
    "print (\"Ridge model:\", ridge.intercept_, '+', ridge.coef_[0])\n",
    "\n",
    "lasso = linear_model.Lasso(alpha=1)\n",
    "lasso.fit(x,y)\n",
    "print (\"Lasso model:\", lasso.intercept_, '+', lasso.coef_)\n"
   ]
  }
 ],
 "metadata": {
  "kernelspec": {
   "display_name": "Python [conda env:chemml_dev] *",
   "language": "python",
   "name": "conda-env-chemml_dev-py"
  },
  "language_info": {
   "codemirror_mode": {
    "name": "ipython",
    "version": 3
   },
   "file_extension": ".py",
   "mimetype": "text/x-python",
   "name": "python",
   "nbconvert_exporter": "python",
   "pygments_lexer": "ipython3",
   "version": "3.6.8"
  }
 },
 "nbformat": 4,
 "nbformat_minor": 2
}
