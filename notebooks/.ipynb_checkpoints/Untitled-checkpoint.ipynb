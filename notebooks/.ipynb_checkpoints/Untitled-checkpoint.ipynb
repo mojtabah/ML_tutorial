{
 "cells": [
  {
   "cell_type": "markdown",
   "metadata": {},
   "source": [
    "## ChemML"
   ]
  },
  {
   "cell_type": "code",
   "execution_count": 1,
   "metadata": {},
   "outputs": [],
   "source": [
    "import numpy as np\n",
    "np.random.seed(90)\n",
    "\n",
    "import pandas as pd\n",
    "import matplotlib.pyplot as plt\n",
    "\n",
    "%matplotlib inline"
   ]
  },
  {
   "cell_type": "code",
   "execution_count": 2,
   "metadata": {},
   "outputs": [],
   "source": [
    "from chemml.datasets import load_organic_density\n",
    "smiles, density, features = load_organic_density()\n",
    "\n",
    "# X = features.values\n",
    "y = density.values"
   ]
  },
  {
   "cell_type": "code",
   "execution_count": 3,
   "metadata": {},
   "outputs": [
    {
     "name": "stdout",
     "output_type": "stream",
     "text": [
      "500\n"
     ]
    }
   ],
   "source": [
    "from chemml.chem import Molecule\n",
    "\n",
    "molecules = [Molecule(i, 'smiles') for i in smiles.iloc[:,0]]\n",
    "print(len(molecules))"
   ]
  },
  {
   "cell_type": "code",
   "execution_count": 4,
   "metadata": {},
   "outputs": [
    {
     "data": {
      "text/plain": [
       "<chemml.chem.Molecule(\n",
       "        rdkit_molecule : <rdkit.Chem.rdchem.Mol object at 0x1240788f0>,\n",
       "        pybel_molecule : None,\n",
       "        creator        : ('SMILES', 'Cc1cc(ncc1c1ncsc1)c1ncsc1'),\n",
       "        smiles         : 'Cc1cc(-c2cscn2)ncc1-c1cscn1',\n",
       "        smarts         : None,\n",
       "        inchi          : None,\n",
       "        xyz            : None)>"
      ]
     },
     "execution_count": 4,
     "metadata": {},
     "output_type": "execute_result"
    }
   ],
   "source": [
    "molecules[100]"
   ]
  },
  {
   "cell_type": "code",
   "execution_count": 5,
   "metadata": {},
   "outputs": [],
   "source": [
    "# geometry optimization\n",
    "for mol in molecules:\n",
    "    mol.hydrogens('add')\n",
    "    mol.to_xyz(optimizer='MMFF', mmffVariant='MMFF94s', maxIters=200) # 'UFF'"
   ]
  },
  {
   "cell_type": "code",
   "execution_count": 7,
   "metadata": {},
   "outputs": [],
   "source": [
    "# calculate CoulombMatrix\n",
    "from chemml.chem import CoulombMatrix\n",
    "\n",
    "cm = CoulombMatrix(CMtype='SC')\n",
    "X = cm.represent(molecules)"
   ]
  },
  {
   "cell_type": "code",
   "execution_count": 8,
   "metadata": {},
   "outputs": [
    {
     "data": {
      "text/plain": [
       "((450, 1653), (50, 1653))"
      ]
     },
     "execution_count": 8,
     "metadata": {},
     "output_type": "execute_result"
    }
   ],
   "source": [
    "# Train-Test split\n",
    "from sklearn.model_selection import train_test_split\n",
    "\n",
    "X_train, X_test, y_train, y_test = train_test_split(X, y, test_size=0.1, random_state=0)\n",
    "X_train.shape, X_test.shape"
   ]
  },
  {
   "cell_type": "code",
   "execution_count": 9,
   "metadata": {},
   "outputs": [
    {
     "data": {
      "text/plain": [
       "((405, 1653), (45, 1653))"
      ]
     },
     "execution_count": 9,
     "metadata": {},
     "output_type": "execute_result"
    }
   ],
   "source": [
    "# validation set\n",
    "X_train, X_val, y_train, y_val = train_test_split(X_train, y_train, test_size=0.1, random_state=0)\n",
    "X_train.shape, X_val.shape"
   ]
  },
  {
   "cell_type": "code",
   "execution_count": null,
   "metadata": {},
   "outputs": [],
   "source": [
    "# normalize"
   ]
  },
  {
   "cell_type": "markdown",
   "metadata": {},
   "source": [
    "## Defining hyperparameter space"
   ]
  },
  {
   "cell_type": "code",
   "execution_count": 10,
   "metadata": {},
   "outputs": [],
   "source": [
    "from sklearn.kernel_ridge import KernelRidge\n",
    "space = (\n",
    "        {'alpha'   :   {'uniform' : (0.1, 10), 'mutation': (0,1)}},\n",
    "        {'kernels' :   {'choice'  : ['rbf', 'sigmoid', 'polynomial']}},\n",
    "        {'degree'  :   {'int'     : (1,5)}} )"
   ]
  },
  {
   "cell_type": "markdown",
   "metadata": {},
   "source": [
    "## Defining objective function"
   ]
  },
  {
   "cell_type": "code",
   "execution_count": 11,
   "metadata": {},
   "outputs": [],
   "source": [
    "from sklearn.metrics import mean_absolute_error\n",
    "def obj(individual):\n",
    "    krr = KernelRidge(alpha=individual[0], kernel=individual[1], degree=individual[2])\n",
    "    krr.fit(X_train, y_train)\n",
    "    pred = krr.predict(X_val)\n",
    "    return mean_absolute_error(y_val, pred)"
   ]
  },
  {
   "cell_type": "markdown",
   "metadata": {},
   "source": [
    "## model selection"
   ]
  },
  {
   "cell_type": "code",
   "execution_count": 12,
   "metadata": {},
   "outputs": [],
   "source": [
    "from chemml.optimization import GeneticAlgorithm\n",
    "ga = GeneticAlgorithm(evaluate=obj, space=space, fitness=(\"min\", ),\n",
    "                        pop_size = 8, crossover_size=0.5, mutation_size=0.5, algorithm=3)\n",
    "best_models_per_generation, final_best_hyperparameters = ga.search(n_generations=10)"
   ]
  },
  {
   "cell_type": "code",
   "execution_count": 13,
   "metadata": {},
   "outputs": [
    {
     "data": {
      "text/html": [
       "<div>\n",
       "<style scoped>\n",
       "    .dataframe tbody tr th:only-of-type {\n",
       "        vertical-align: middle;\n",
       "    }\n",
       "\n",
       "    .dataframe tbody tr th {\n",
       "        vertical-align: top;\n",
       "    }\n",
       "\n",
       "    .dataframe thead th {\n",
       "        text-align: right;\n",
       "    }\n",
       "</style>\n",
       "<table border=\"1\" class=\"dataframe\">\n",
       "  <thead>\n",
       "    <tr style=\"text-align: right;\">\n",
       "      <th></th>\n",
       "      <th>Best_individual</th>\n",
       "      <th>Fitness_values</th>\n",
       "      <th>Time (hours)</th>\n",
       "    </tr>\n",
       "  </thead>\n",
       "  <tbody>\n",
       "    <tr>\n",
       "      <th>0</th>\n",
       "      <td>(0.1, sigmoid, 2)</td>\n",
       "      <td>64.562413</td>\n",
       "      <td>0.000038</td>\n",
       "    </tr>\n",
       "    <tr>\n",
       "      <th>1</th>\n",
       "      <td>(0.1, sigmoid, 2)</td>\n",
       "      <td>64.562413</td>\n",
       "      <td>0.000034</td>\n",
       "    </tr>\n",
       "    <tr>\n",
       "      <th>2</th>\n",
       "      <td>(0.1, sigmoid, 2)</td>\n",
       "      <td>64.562413</td>\n",
       "      <td>0.000036</td>\n",
       "    </tr>\n",
       "    <tr>\n",
       "      <th>3</th>\n",
       "      <td>(0.1, sigmoid, 2)</td>\n",
       "      <td>64.562413</td>\n",
       "      <td>0.000038</td>\n",
       "    </tr>\n",
       "    <tr>\n",
       "      <th>4</th>\n",
       "      <td>(0.1, sigmoid, 2)</td>\n",
       "      <td>64.562413</td>\n",
       "      <td>0.000039</td>\n",
       "    </tr>\n",
       "    <tr>\n",
       "      <th>5</th>\n",
       "      <td>(0.1, sigmoid, 2)</td>\n",
       "      <td>64.562413</td>\n",
       "      <td>0.000040</td>\n",
       "    </tr>\n",
       "    <tr>\n",
       "      <th>6</th>\n",
       "      <td>(0.1, sigmoid, 2)</td>\n",
       "      <td>64.562413</td>\n",
       "      <td>0.000037</td>\n",
       "    </tr>\n",
       "    <tr>\n",
       "      <th>7</th>\n",
       "      <td>(0.1, sigmoid, 2)</td>\n",
       "      <td>64.562413</td>\n",
       "      <td>0.000037</td>\n",
       "    </tr>\n",
       "    <tr>\n",
       "      <th>8</th>\n",
       "      <td>(0.1, sigmoid, 2)</td>\n",
       "      <td>64.562413</td>\n",
       "      <td>0.000034</td>\n",
       "    </tr>\n",
       "    <tr>\n",
       "      <th>9</th>\n",
       "      <td>(0.1, sigmoid, 2)</td>\n",
       "      <td>64.562413</td>\n",
       "      <td>0.000039</td>\n",
       "    </tr>\n",
       "  </tbody>\n",
       "</table>\n",
       "</div>"
      ],
      "text/plain": [
       "     Best_individual  Fitness_values  Time (hours)\n",
       "0  (0.1, sigmoid, 2)       64.562413      0.000038\n",
       "1  (0.1, sigmoid, 2)       64.562413      0.000034\n",
       "2  (0.1, sigmoid, 2)       64.562413      0.000036\n",
       "3  (0.1, sigmoid, 2)       64.562413      0.000038\n",
       "4  (0.1, sigmoid, 2)       64.562413      0.000039\n",
       "5  (0.1, sigmoid, 2)       64.562413      0.000040\n",
       "6  (0.1, sigmoid, 2)       64.562413      0.000037\n",
       "7  (0.1, sigmoid, 2)       64.562413      0.000037\n",
       "8  (0.1, sigmoid, 2)       64.562413      0.000034\n",
       "9  (0.1, sigmoid, 2)       64.562413      0.000039"
      ]
     },
     "execution_count": 13,
     "metadata": {},
     "output_type": "execute_result"
    }
   ],
   "source": [
    "best_models_per_generation\n"
   ]
  }
 ],
 "metadata": {
  "kernelspec": {
   "display_name": "Python [conda env:chemml_dev] *",
   "language": "python",
   "name": "conda-env-chemml_dev-py"
  },
  "language_info": {
   "codemirror_mode": {
    "name": "ipython",
    "version": 3
   },
   "file_extension": ".py",
   "mimetype": "text/x-python",
   "name": "python",
   "nbconvert_exporter": "python",
   "pygments_lexer": "ipython3",
   "version": "3.6.8"
  }
 },
 "nbformat": 4,
 "nbformat_minor": 2
}
